{
 "cells": [
  {
   "cell_type": "markdown",
   "metadata": {},
   "source": [
    "# Data Scientist Nanodegree\n",
    "\n",
    "## Convolutional Neural Networks\n",
    "\n",
    "## Project: Write an Algorithm for a Dog Identification App \n",
    "\n",
    "\n",
    "This notebook walks you through one of the most popular Udacity projects across machine learning and artificial intellegence nanodegree programs.  The goal is to classify images of dogs according to their breed.  \n",
    "\n",
    "If you are looking for a more guided capstone project related to deep learning and convolutional neural networks, this might be just it.  Notice that even if you follow the notebook to creating your classifier, you must still create a blog post or deploy an application to fulfill the requirements of the capstone project.\n",
    "\n",
    "Also notice, you may be able to use only parts of this notebook (for example certain coding portions or the data) without completing all parts and still meet all requirements of the capstone project.\n",
    "\n",
    "---\n",
    "\n",
    "In this notebook, some template code has already been provided for you, and you will need to implement additional functionality to successfully complete this project. You will not need to modify the included code beyond what is requested. Sections that begin with **'(IMPLEMENTATION)'** in the header indicate that the following block of code will require additional functionality which you must provide. Instructions will be provided for each section, and the specifics of the implementation are marked in the code block with a 'TODO' statement. Please be sure to read the instructions carefully! \n",
    "\n",
    "In addition to implementing code, there will be questions that you must answer which relate to the project and your implementation. Each section where you will answer a question is preceded by a **'Question X'** header. Carefully read each question and provide thorough answers in the following text boxes that begin with **'Answer:'**. Your project submission will be evaluated based on your answers to each of the questions and the implementation you provide.\n",
    "\n",
    ">**Note:** Code and Markdown cells can be executed using the **Shift + Enter** keyboard shortcut.  Markdown cells can be edited by double-clicking the cell to enter edit mode.\n",
    "\n",
    "The rubric contains _optional_ \"Stand Out Suggestions\" for enhancing the project beyond the minimum requirements. If you decide to pursue the \"Stand Out Suggestions\", you should include the code in this IPython notebook.\n",
    "\n",
    "\n",
    "\n",
    "---\n",
    "### Why We're Here \n",
    "\n",
    "In this notebook, you will make the first steps towards developing an algorithm that could be used as part of a mobile or web app.  At the end of this project, your code will accept any user-supplied image as input.  If a dog is detected in the image, it will provide an estimate of the dog's breed.  If a human is detected, it will provide an estimate of the dog breed that is most resembling.  The image below displays potential sample output of your finished project (... but we expect that each student's algorithm will behave differently!). \n",
    "\n",
    "![Sample Dog Output](images/sample_dog_output.png)\n",
    "\n",
    "In this real-world setting, you will need to piece together a series of models to perform different tasks; for instance, the algorithm that detects humans in an image will be different from the CNN that infers dog breed.  There are many points of possible failure, and no perfect algorithm exists.  Your imperfect solution will nonetheless create a fun user experience!\n",
    "\n",
    "### The Road Ahead\n",
    "\n",
    "We break the notebook into separate steps.  Feel free to use the links below to navigate the notebook.\n",
    "\n",
    "* [Step 0](#step0): Import Datasets\n",
    "* [Step 1](#step1): Detect Humans\n",
    "* [Step 2](#step2): Detect Dogs\n",
    "* [Step 3](#step3): Create a CNN to Classify Dog Breeds (from Scratch)\n",
    "* [Step 4](#step4): Use a CNN to Classify Dog Breeds (using Transfer Learning)\n",
    "* [Step 5](#step5): Create a CNN to Classify Dog Breeds (using Transfer Learning)\n",
    "* [Step 6](#step6): Write your Algorithm\n",
    "* [Step 7](#step7): Test Your Algorithm\n",
    "\n",
    "---\n",
    "<a id='step0'></a>\n",
    "## Step 0: Import Datasets\n",
    "\n",
    "### Import Dog Dataset\n",
    "\n",
    "In the code cell below, we import a dataset of dog images.  We populate a few variables through the use of the `load_files` function from the scikit-learn library:\n",
    "- `train_files`, `valid_files`, `test_files` - numpy arrays containing file paths to images\n",
    "- `train_targets`, `valid_targets`, `test_targets` - numpy arrays containing onehot-encoded classification labels \n",
    "- `dog_names` - list of string-valued dog breed names for translating labels"
   ]
  },
  {
   "cell_type": "code",
   "execution_count": 1,
   "metadata": {},
   "outputs": [
    {
     "name": "stdout",
     "output_type": "stream",
     "text": [
      "There are 133 total dog categories.\n",
      "There are 8351 total dog images.\n",
      "\n",
      "There are 6680 training dog images.\n",
      "There are 835 validation dog images.\n",
      "There are 836 test dog images.\n"
     ]
    }
   ],
   "source": [
    "from sklearn.datasets import load_files       \n",
    "from keras.utils import np_utils\n",
    "import numpy as np\n",
    "from glob import glob\n",
    "\n",
    "# define function to load train, test, and validation datasets\n",
    "def load_dataset(path):\n",
    "    data = load_files(path)\n",
    "    dog_files = np.array(data['filenames'])\n",
    "    dog_targets = np_utils.to_categorical(np.array(data['target']), 133)\n",
    "    return dog_files, dog_targets\n",
    "\n",
    "# load train, test, and validation datasets\n",
    "train_files, train_targets = load_dataset('dogImages/train')\n",
    "valid_files, valid_targets = load_dataset('dogImages/valid')\n",
    "test_files, test_targets = load_dataset('dogImages/test')\n",
    "\n",
    "# load list of dog names\n",
    "dog_names = [item[20:-1] for item in sorted(glob(\"dogImages/train/*/\"))]\n",
    "\n",
    "# print statistics about the dataset\n",
    "print('There are %d total dog categories.' % len(dog_names))\n",
    "print('There are %s total dog images.\\n' % len(np.hstack([train_files, valid_files, test_files])))\n",
    "print('There are %d training dog images.' % len(train_files))\n",
    "print('There are %d validation dog images.' % len(valid_files))\n",
    "print('There are %d test dog images.'% len(test_files))"
   ]
  },
  {
   "cell_type": "markdown",
   "metadata": {},
   "source": [
    "### Import Human Dataset\n",
    "\n",
    "In the code cell below, we import a dataset of human images, where the file paths are stored in the numpy array `human_files`."
   ]
  },
  {
   "cell_type": "code",
   "execution_count": 2,
   "metadata": {},
   "outputs": [
    {
     "name": "stdout",
     "output_type": "stream",
     "text": [
      "There are 13233 total human images.\n"
     ]
    }
   ],
   "source": [
    "import random\n",
    "random.seed(8675309)\n",
    "\n",
    "# load filenames in shuffled human dataset\n",
    "human_files = np.array(glob(\"lfw/*/*\"))\n",
    "random.shuffle(human_files)\n",
    "\n",
    "# print statistics about the dataset\n",
    "print('There are %d total human images.' % len(human_files))"
   ]
  },
  {
   "cell_type": "code",
   "execution_count": 3,
   "metadata": {},
   "outputs": [
    {
     "name": "stdout",
     "output_type": "stream",
     "text": [
      "0.7999042030894503\n",
      "0.09998802538618129\n",
      "0.10010777152436834\n"
     ]
    }
   ],
   "source": [
    "# Evaluate data set splitting\n",
    "print(len(train_files) / len(np.hstack([train_files, valid_files, test_files])))\n",
    "print(len(valid_files) / len(np.hstack([train_files, valid_files, test_files])))\n",
    "print(len(test_files) / len(np.hstack([train_files, valid_files, test_files])))"
   ]
  },
  {
   "cell_type": "code",
   "execution_count": 4,
   "metadata": {},
   "outputs": [],
   "source": [
    "import matplotlib.pyplot as plt\n",
    "%matplotlib inline"
   ]
  },
  {
   "cell_type": "code",
   "execution_count": 5,
   "metadata": {},
   "outputs": [],
   "source": [
    "# get number of dog images per breed / class\n",
    "path_l1 = \"dogImages/train\"\n",
    "nb_imgs = []\n",
    "for path_l2 in glob(path_l1 + \"/*\"):\n",
    "        #print(glob(path_l2 + '/*'))\n",
    "        nb_imgs.append(len(glob(path_l2 + \"/*\")))"
   ]
  },
  {
   "cell_type": "code",
   "execution_count": 6,
   "metadata": {},
   "outputs": [
    {
     "data": {
      "text/plain": [
       "Text(52, 18, '$\\\\sigma=11.8$')"
      ]
     },
     "execution_count": 6,
     "metadata": {},
     "output_type": "execute_result"
    },
    {
     "data": {
      "image/png": "[encoded data removed]",
      "text/plain": [
       "<Figure size 432x288 with 1 Axes>"
      ]
     },
     "metadata": {
      "needs_background": "light"
     },
     "output_type": "display_data"
    }
   ],
   "source": [
    "# plot distribution of dog images per breed / class\n",
    "plt.hist(np.array(nb_imgs), alpha=0.75)\n",
    "plt.axvline(x=50.2, color='red', linewidth=2) \n",
    "plt.title('Train Image Set: Available Images per Dog Breed')\n",
    "plt.xlabel('Number of Images')\n",
    "plt.ylabel('Number of Dog Breeds')\n",
    "plt.text(52, 20, r'$\\mu=50.2$', fontsize=12)\n",
    "plt.text(52, 18, r'$\\sigma=11.8$', fontsize=12)"
   ]
  },
  {
   "cell_type": "code",
   "execution_count": 7,
   "metadata": {},
   "outputs": [
    {
     "name": "stdout",
     "output_type": "stream",
     "text": [
      "50.0\n",
      "50.225563909774436\n",
      "11.819199711692113\n",
      "77\n",
      "26\n"
     ]
    }
   ],
   "source": [
    "# statistics of images per dog breed distribution\n",
    "print(np.percentile(np.array(nb_imgs), 50))\n",
    "print(np.array(nb_imgs).mean())\n",
    "print(np.array(nb_imgs).std())\n",
    "print(np.array(nb_imgs).max())\n",
    "print(np.array(nb_imgs).min())"
   ]
  },
  {
   "cell_type": "markdown",
   "metadata": {},
   "source": [
    "---\n",
    "<a id='step1'></a>\n",
    "## Step 1: Detect Humans\n",
    "\n",
    "We use OpenCV's implementation of [Haar feature-based cascade classifiers](http://docs.opencv.org/trunk/d7/d8b/tutorial_py_face_detection.html) to detect human faces in images.  OpenCV provides many pre-trained face detectors, stored as XML files on [github](https://github.com/opencv/opencv/tree/master/data/haarcascades).  We have downloaded one of these detectors and stored it in the `haarcascades` directory.\n",
    "\n",
    "In the next code cell, we demonstrate how to use this detector to find human faces in a sample image."
   ]
  },
  {
   "cell_type": "code",
   "execution_count": 8,
   "metadata": {},
   "outputs": [
    {
     "name": "stdout",
     "output_type": "stream",
     "text": [
      "Number of faces detected: 1\n"
     ]
    },
    {
     "data": {
      "image/png": "[encoded data removed]",
      "text/plain": [
       "<Figure size 432x288 with 1 Axes>"
      ]
     },
     "metadata": {
      "needs_background": "light"
     },
     "output_type": "display_data"
    }
   ],
   "source": [
    "import cv2                \n",
    "import matplotlib.pyplot as plt                        \n",
    "%matplotlib inline                               \n",
    "\n",
    "# extract pre-trained face detector\n",
    "face_cascade = cv2.CascadeClassifier('haarcascades/haarcascade_frontalface_alt.xml')\n",
    "\n",
    "# load color (BGR) image\n",
    "img = cv2.imread(human_files[3])\n",
    "# convert BGR image to grayscale\n",
    "gray = cv2.cvtColor(img, cv2.COLOR_BGR2GRAY)\n",
    "\n",
    "# find faces in image\n",
    "faces = face_cascade.detectMultiScale(gray)\n",
    "\n",
    "# print number of faces detected in the image\n",
    "print('Number of faces detected:', len(faces))\n",
    "\n",
    "# get bounding box for each detected face\n",
    "for (x,y,w,h) in faces:\n",
    "    # add bounding box to color image\n",
    "    cv2.rectangle(img,(x,y),(x+w,y+h),(255,0,0),2)\n",
    "    \n",
    "# convert BGR image to RGB for plotting\n",
    "cv_rgb = cv2.cvtColor(img, cv2.COLOR_BGR2RGB)\n",
    "\n",
    "# display the image, along with bounding box\n",
    "plt.imshow(cv_rgb)\n",
    "plt.show()"
   ]
  },
  {
   "cell_type": "markdown",
   "metadata": {},
   "source": [
    "Before using any of the face detectors, it is standard procedure to convert the images to grayscale.  The `detectMultiScale` function executes the classifier stored in `face_cascade` and takes the grayscale image as a parameter.  \n",
    "\n",
    "In the above code, `faces` is a numpy array of detected faces, where each row corresponds to a detected face.  Each detected face is a 1D array with four entries that specifies the bounding box of the detected face.  The first two entries in the array (extracted in the above code as `x` and `y`) specify the horizontal and vertical positions of the top left corner of the bounding box.  The last two entries in the array (extracted here as `w` and `h`) specify the width and height of the box.\n",
    "\n",
    "### Write a Human Face Detector\n",
    "\n",
    "We can use this procedure to write a function that returns `True` if a human face is detected in an image and `False` otherwise.  This function, aptly named `face_detector`, takes a string-valued file path to an image as input and appears in the code block below."
   ]
  },
  {
   "cell_type": "code",
   "execution_count": 9,
   "metadata": {},
   "outputs": [],
   "source": [
    "# returns \"True\" if face is detected in image stored at img_path\n",
    "def face_detector(img_path):\n",
    "    img = cv2.imread(img_path)\n",
    "    gray = cv2.cvtColor(img, cv2.COLOR_BGR2GRAY)\n",
    "    faces = face_cascade.detectMultiScale(gray)\n",
    "    return len(faces) > 0"
   ]
  },
  {
   "cell_type": "markdown",
   "metadata": {},
   "source": [
    "### (IMPLEMENTATION) Assess the Human Face Detector\n",
    "\n",
    "__Question 1:__ Use the code cell below to test the performance of the `face_detector` function.  \n",
    "- What percentage of the first 100 images in `human_files` have a detected human face?  \n",
    "- What percentage of the first 100 images in `dog_files` have a detected human face? \n",
    "\n",
    "Ideally, we would like 100% of human images with a detected face and 0% of dog images with a detected face.  You will see that our algorithm falls short of this goal, but still gives acceptable performance.  We extract the file paths for the first 100 images from each of the datasets and store them in the numpy arrays `human_files_short` and `dog_files_short`.\n",
    "\n",
    "__Answer:__ "
   ]
  },
  {
   "cell_type": "code",
   "execution_count": 10,
   "metadata": {},
   "outputs": [
    {
     "name": "stdout",
     "output_type": "stream",
     "text": [
      "Performance humans (human detected): 99.0%\n",
      "Performance dogs (human detected): 12.0%\n"
     ]
    }
   ],
   "source": [
    "human_files_short = human_files[:100]\n",
    "dog_files_short = train_files[:100]\n",
    "# Do NOT modify the code above this line.\n",
    "\n",
    "## TODO: Test the performance of the face_detector algorithm \n",
    "## on the images in human_files_short and dog_files_short.\n",
    "\n",
    "def performance_faces(images):\n",
    "    '''\n",
    "    Function takes an image paths and returns number of times\n",
    "    a human face was detected in total.\n",
    "    \n",
    "    Input: np.array, image paths\n",
    "    Output: np.array, number of images where a face was detected\n",
    "    '''\n",
    "    face_detected = []\n",
    "    for img in images:\n",
    "        face_detected.append(face_detector(img))        \n",
    "    return np.array(face_detected).sum() / len(images) * 100\n",
    "    \n",
    "print(\"Performance humans (human detected): {}%\".format(performance_faces(human_files_short)))\n",
    "print(\"Performance dogs (human detected): {}%\".format(performance_faces(dog_files_short)))"
   ]
  },
  {
   "cell_type": "markdown",
   "metadata": {},
   "source": [
    "__Question 2:__ This algorithmic choice necessitates that we communicate to the user that we accept human images only when they provide a clear view of a face (otherwise, we risk having unneccessarily frustrated users!). In your opinion, is this a reasonable expectation to pose on the user? If not, can you think of a way to detect humans in images that does not necessitate an image with a clearly presented face?\n",
    "\n",
    "__Answer:__\n",
    "<br>With a detection rate of ~99% for human faces the opencv approach is a good option to use. However, due to the misclassification of ~12% of the dogs as humans a further or upfront elimination of all dog images would be good.\n",
    "<br><br>\n",
    "\n",
    "We suggest the face detector from OpenCV as a potential way to detect human images in your algorithm, but you are free to explore other approaches, especially approaches that make use of deep learning :).  Please use the code cell below to design and test your own face detection algorithm.  If you decide to pursue this _optional_ task, report performance on each of the datasets."
   ]
  },
  {
   "cell_type": "code",
   "execution_count": 11,
   "metadata": {},
   "outputs": [],
   "source": [
    "## (Optional) TODO: Report the performance of another  \n",
    "## face detection algorithm on the LFW dataset\n",
    "### Feel free to use as many code cells as needed."
   ]
  },
  {
   "cell_type": "markdown",
   "metadata": {},
   "source": [
    "---\n",
    "<a id='step2'></a>\n",
    "## Step 2: Detect Dogs\n",
    "\n",
    "In this section, we use a pre-trained [ResNet-50](http://ethereon.github.io/netscope/#/gist/db945b393d40bfa26006) model to detect dogs in images.  Our first line of code downloads the ResNet-50 model, along with weights that have been trained on [ImageNet](http://www.image-net.org/), a very large, very popular dataset used for image classification and other vision tasks.  ImageNet contains over 10 million URLs, each linking to an image containing an object from one of [1000 categories](https://gist.github.com/yrevar/942d3a0ac09ec9e5eb3a).  Given an image, this pre-trained ResNet-50 model returns a prediction (derived from the available categories in ImageNet) for the object that is contained in the image."
   ]
  },
  {
   "cell_type": "code",
   "execution_count": 12,
   "metadata": {},
   "outputs": [],
   "source": [
    "from keras.applications.resnet50 import ResNet50\n",
    "\n",
    "# define ResNet50 model\n",
    "ResNet50_model = ResNet50(weights='imagenet')"
   ]
  },
  {
   "cell_type": "markdown",
   "metadata": {},
   "source": [
    "### Pre-process the Data\n",
    "\n",
    "When using TensorFlow as backend, Keras CNNs require a 4D array (which we'll also refer to as a 4D tensor) as input, with shape\n",
    "\n",
    "$$\n",
    "(\\text{nb_samples}, \\text{rows}, \\text{columns}, \\text{channels}),\n",
    "$$\n",
    "\n",
    "where `nb_samples` corresponds to the total number of images (or samples), and `rows`, `columns`, and `channels` correspond to the number of rows, columns, and channels for each image, respectively.  \n",
    "\n",
    "The `path_to_tensor` function below takes a string-valued file path to a color image as input and returns a 4D tensor suitable for supplying to a Keras CNN.  The function first loads the image and resizes it to a square image that is $224 \\times 224$ pixels.  Next, the image is converted to an array, which is then resized to a 4D tensor.  In this case, since we are working with color images, each image has three channels.  Likewise, since we are processing a single image (or sample), the returned tensor will always have shape\n",
    "\n",
    "$$\n",
    "(1, 224, 224, 3).\n",
    "$$\n",
    "\n",
    "The `paths_to_tensor` function takes a numpy array of string-valued image paths as input and returns a 4D tensor with shape \n",
    "\n",
    "$$\n",
    "(\\text{nb_samples}, 224, 224, 3).\n",
    "$$\n",
    "\n",
    "Here, `nb_samples` is the number of samples, or number of images, in the supplied array of image paths.  It is best to think of `nb_samples` as the number of 3D tensors (where each 3D tensor corresponds to a different image) in your dataset!"
   ]
  },
  {
   "cell_type": "code",
   "execution_count": 13,
   "metadata": {},
   "outputs": [],
   "source": [
    "from keras.preprocessing import image                  \n",
    "from tqdm import tqdm\n",
    "\n",
    "def path_to_tensor(img_path):\n",
    "    # loads RGB image as PIL.Image.Image type\n",
    "    img = image.load_img(img_path, target_size=(224, 224))\n",
    "    # convert PIL.Image.Image type to 3D tensor with shape (224, 224, 3)\n",
    "    x = image.img_to_array(img)\n",
    "    # convert 3D tensor to 4D tensor with shape (1, 224, 224, 3) and return 4D tensor\n",
    "    return np.expand_dims(x, axis=0)\n",
    "\n",
    "def paths_to_tensor(img_paths):\n",
    "    list_of_tensors = [path_to_tensor(img_path) for img_path in tqdm(img_paths)]\n",
    "    return np.vstack(list_of_tensors)"
   ]
  },
  {
   "cell_type": "markdown",
   "metadata": {},
   "source": [
    "### Making Predictions with ResNet-50\n",
    "\n",
    "Getting the 4D tensor ready for ResNet-50, and for any other pre-trained model in Keras, requires some additional processing.  First, the RGB image is converted to BGR by reordering the channels.  All pre-trained models have the additional normalization step that the mean pixel (expressed in RGB as $[103.939, 116.779, 123.68]$ and calculated from all pixels in all images in ImageNet) must be subtracted from every pixel in each image.  This is implemented in the imported function `preprocess_input`.  If you're curious, you can check the code for `preprocess_input` [here](https://github.com/fchollet/keras/blob/master/keras/applications/imagenet_utils.py).\n",
    "\n",
    "Now that we have a way to format our image for supplying to ResNet-50, we are now ready to use the model to extract the predictions.  This is accomplished with the `predict` method, which returns an array whose $i$-th entry is the model's predicted probability that the image belongs to the $i$-th ImageNet category.  This is implemented in the `ResNet50_predict_labels` function below.\n",
    "\n",
    "By taking the argmax of the predicted probability vector, we obtain an integer corresponding to the model's predicted object class, which we can identify with an object category through the use of this [dictionary](https://gist.github.com/yrevar/942d3a0ac09ec9e5eb3a). "
   ]
  },
  {
   "cell_type": "code",
   "execution_count": 14,
   "metadata": {},
   "outputs": [],
   "source": [
    "from keras.applications.resnet50 import preprocess_input, decode_predictions\n",
    "\n",
    "def ResNet50_predict_labels(img_path):\n",
    "    # returns prediction vector for image located at img_path\n",
    "    img = preprocess_input(path_to_tensor(img_path))\n",
    "    return np.argmax(ResNet50_model.predict(img))"
   ]
  },
  {
   "cell_type": "markdown",
   "metadata": {},
   "source": [
    "### Write a Dog Detector\n",
    "\n",
    "While looking at the [dictionary](https://gist.github.com/yrevar/942d3a0ac09ec9e5eb3a), you will notice that the categories corresponding to dogs appear in an uninterrupted sequence and correspond to dictionary keys 151-268, inclusive, to include all categories from `'Chihuahua'` to `'Mexican hairless'`.  Thus, in order to check to see if an image is predicted to contain a dog by the pre-trained ResNet-50 model, we need only check if the `ResNet50_predict_labels` function above returns a value between 151 and 268 (inclusive).\n",
    "\n",
    "We use these ideas to complete the `dog_detector` function below, which returns `True` if a dog is detected in an image (and `False` if not)."
   ]
  },
  {
   "cell_type": "code",
   "execution_count": 15,
   "metadata": {},
   "outputs": [],
   "source": [
    "### returns \"True\" if a dog is detected in the image stored at img_path\n",
    "def dog_detector(img_path):\n",
    "    prediction = ResNet50_predict_labels(img_path)\n",
    "    return ((prediction <= 268) & (prediction >= 151)) "
   ]
  },
  {
   "cell_type": "markdown",
   "metadata": {},
   "source": [
    "### (IMPLEMENTATION) Assess the Dog Detector\n",
    "\n",
    "__Question 3:__ Use the code cell below to test the performance of your `dog_detector` function.  \n",
    "- What percentage of the images in `human_files_short` have a detected dog?  \n",
    "- What percentage of the images in `dog_files_short` have a detected dog?\n",
    "\n",
    "__Answer:__ "
   ]
  },
  {
   "cell_type": "code",
   "execution_count": 16,
   "metadata": {},
   "outputs": [
    {
     "name": "stdout",
     "output_type": "stream",
     "text": [
      "Performance humans (dog detected): 0.0%\n",
      "Performance dogs (dog detected): 100.0%\n"
     ]
    }
   ],
   "source": [
    "### TODO: Test the performance of the dog_detector function\n",
    "### on the images in human_files_short and dog_files_short.\n",
    "from PIL import ImageFile                            \n",
    "ImageFile.LOAD_TRUNCATED_IMAGES = True  \n",
    "\n",
    "def performance_dogs(images):\n",
    "    '''\n",
    "    Function takes an image paths and returns number of times\n",
    "    a dog was detected in total.\n",
    "    \n",
    "    Input: np.array, image paths\n",
    "    Output: np.array, number of images where a dog was detected\n",
    "    '''\n",
    "    dog_detected = []\n",
    "    for img in images:\n",
    "        dog_detected.append(dog_detector(img))\n",
    "\n",
    "    return np.array(dog_detected).sum()  / len(images) * 100\n",
    "\n",
    "print(\"Performance humans (dog detected): {}%\".format(performance_dogs(human_files_short)))\n",
    "print(\"Performance dogs (dog detected): {}%\".format(performance_dogs(dog_files_short)))"
   ]
  },
  {
   "cell_type": "markdown",
   "metadata": {},
   "source": [
    "---\n",
    "<a id='step3'></a>\n",
    "## Step 3: Create a CNN to Classify Dog Breeds (from Scratch)\n",
    "\n",
    "Now that we have functions for detecting humans and dogs in images, we need a way to predict breed from images.  In this step, you will create a CNN that classifies dog breeds.  You must create your CNN _from scratch_ (so, you can't use transfer learning _yet_!), and you must attain a test accuracy of at least 1%.  In Step 5 of this notebook, you will have the opportunity to use transfer learning to create a CNN that attains greatly improved accuracy.\n",
    "\n",
    "Be careful with adding too many trainable layers!  More parameters means longer training, which means you are more likely to need a GPU to accelerate the training process.  Thankfully, Keras provides a handy estimate of the time that each epoch is likely to take; you can extrapolate this estimate to figure out how long it will take for your algorithm to train. \n",
    "\n",
    "We mention that the task of assigning breed to dogs from images is considered exceptionally challenging.  To see why, consider that *even a human* would have great difficulty in distinguishing between a Brittany and a Welsh Springer Spaniel.  \n",
    "\n",
    "Brittany | Welsh Springer Spaniel\n",
    "- | - \n",
    "<img src=\"images/Brittany_02625.jpg\" width=\"100\"> | <img src=\"images/Welsh_springer_spaniel_08203.jpg\" width=\"200\">\n",
    "\n",
    "It is not difficult to find other dog breed pairs with minimal inter-class variation (for instance, Curly-Coated Retrievers and American Water Spaniels).  \n",
    "\n",
    "Curly-Coated Retriever | American Water Spaniel\n",
    "- | -\n",
    "<img src=\"images/Curly-coated_retriever_03896.jpg\" width=\"200\"> | <img src=\"images/American_water_spaniel_00648.jpg\" width=\"200\">\n",
    "\n",
    "\n",
    "Likewise, recall that labradors come in yellow, chocolate, and black.  Your vision-based algorithm will have to conquer this high intra-class variation to determine how to classify all of these different shades as the same breed.  \n",
    "\n",
    "Yellow Labrador | Chocolate Labrador | Black Labrador\n",
    "- | -\n",
    "<img src=\"images/Labrador_retriever_06457.jpg\" width=\"150\"> | <img src=\"images/Labrador_retriever_06455.jpg\" width=\"240\"> | <img src=\"images/Labrador_retriever_06449.jpg\" width=\"220\">\n",
    "\n",
    "We also mention that random chance presents an exceptionally low bar: setting aside the fact that the classes are slightly imabalanced, a random guess will provide a correct answer roughly 1 in 133 times, which corresponds to an accuracy of less than 1%.  \n",
    "\n",
    "Remember that the practice is far ahead of the theory in deep learning.  Experiment with many different architectures, and trust your intuition.  And, of course, have fun! \n",
    "\n",
    "### Pre-process the Data\n",
    "\n",
    "We rescale the images by dividing every pixel in every image by 255."
   ]
  },
  {
   "cell_type": "code",
   "execution_count": 17,
   "metadata": {},
   "outputs": [
    {
     "name": "stderr",
     "output_type": "stream",
     "text": [
      "100%|██████████| 6680/6680 [00:35<00:00, 188.64it/s]\n",
      "100%|██████████| 835/835 [00:04<00:00, 189.04it/s]\n",
      "100%|██████████| 836/836 [00:04<00:00, 185.55it/s]\n"
     ]
    }
   ],
   "source": [
    "from PIL import ImageFile                            \n",
    "ImageFile.LOAD_TRUNCATED_IMAGES = True                 \n",
    "\n",
    "# pre-process the data for Keras\n",
    "train_tensors = paths_to_tensor(train_files).astype('float32')/255\n",
    "valid_tensors = paths_to_tensor(valid_files).astype('float32')/255\n",
    "test_tensors = paths_to_tensor(test_files).astype('float32')/255"
   ]
  },
  {
   "cell_type": "markdown",
   "metadata": {},
   "source": [
    "### (IMPLEMENTATION) Model Architecture\n",
    "\n",
    "Create a CNN to classify dog breed.  At the end of your code cell block, summarize the layers of your model by executing the line:\n",
    "    \n",
    "        model.summary()\n",
    "\n",
    "We have imported some Python modules to get you started, but feel free to import as many modules as you need.  If you end up getting stuck, here's a hint that specifies a model that trains relatively fast on CPU and attains >1% test accuracy in 5 epochs:\n",
    "\n",
    "![Sample CNN](images/sample_cnn.png)\n",
    "           \n",
    "__Question 4:__ Outline the steps you took to get to your final CNN architecture and your reasoning at each step.  If you chose to use the hinted architecture above, describe why you think that CNN architecture should work well for the image classification task.\n",
    "\n",
    "__Answer:__ \n",
    "\n",
    "- Model initiated via Sequential()\n",
    "- Added three repetitions of two conv layers followed by a max pooling layer to stepwise increase number of filters and decrease spatial dimensions. More would require to much computation time/resources\n",
    "    - When pooling of 2 is applied to halven spatial dims the # of filters is doubled to keep img info per layer\n",
    "    - In relation to the VGG architecture where multiple conv layers are stacked before a pooling layer is applied I stacked 2 conv layers before a pooling layer. According to VGG paper more stacked conv layers make the decision function more desciriminative. (I think of it as reducing noise in the feature maps / consider only high responsive items)\n",
    "    - For conv layers \n",
    "        - padding = same to keep all image information\n",
    "        - activation ReLu to accel convergence as avoids gradients saturation and expensive operations as exponentials\n",
    "        - kernel size of 2 was used\n",
    "    - MaxPooling was used, as in combination with the fully connected dense layer improved prediction performance vs. GlobalAveragePooling \n",
    "- Flatten to reduce dimensionality as input for dense layer and final classifier output shape\n",
    "- In relation to VGG a dense layer was added. Dense layer was tested with 1024, 2056 notes but 2056 gave best performance (the layer only improves the perf after iterations ~> 10 otherwise weights seem not to be trained and perf worsened)\n",
    "- Softmax function added to normalize output to values between 0 an 1 -> Probabilities"
   ]
  },
  {
   "cell_type": "code",
   "execution_count": 61,
   "metadata": {},
   "outputs": [
    {
     "name": "stdout",
     "output_type": "stream",
     "text": [
      "Model: \"sequential_4\"\n",
      "_________________________________________________________________\n",
      "Layer (type)                 Output Shape              Param #   \n",
      "=================================================================\n",
      "conv2d_24 (Conv2D)           (None, 224, 224, 32)      416       \n",
      "_________________________________________________________________\n",
      "conv2d_25 (Conv2D)           (None, 224, 224, 32)      4128      \n",
      "_________________________________________________________________\n",
      "max_pooling2d_8 (MaxPooling2 (None, 112, 112, 32)      0         \n",
      "_________________________________________________________________\n",
      "conv2d_26 (Conv2D)           (None, 112, 112, 64)      8256      \n",
      "_________________________________________________________________\n",
      "conv2d_27 (Conv2D)           (None, 112, 112, 64)      16448     \n",
      "_________________________________________________________________\n",
      "max_pooling2d_9 (MaxPooling2 (None, 56, 56, 64)        0         \n",
      "_________________________________________________________________\n",
      "conv2d_28 (Conv2D)           (None, 56, 56, 128)       32896     \n",
      "_________________________________________________________________\n",
      "conv2d_29 (Conv2D)           (None, 56, 56, 128)       65664     \n",
      "_________________________________________________________________\n",
      "global_max_pooling2d_4 (Glob (None, 128)               0         \n",
      "_________________________________________________________________\n",
      "dense_8 (Dense)              (None, 2056)              265224    \n",
      "_________________________________________________________________\n",
      "dense_9 (Dense)              (None, 133)               273581    \n",
      "=================================================================\n",
      "Total params: 666,613\n",
      "Trainable params: 666,613\n",
      "Non-trainable params: 0\n",
      "_________________________________________________________________\n"
     ]
    }
   ],
   "source": [
    "from keras.layers import Conv2D, MaxPooling2D, GlobalAveragePooling2D, GlobalMaxPooling2D\n",
    "from keras.layers import Dropout, Flatten, Dense\n",
    "from keras.models import Sequential\n",
    "\n",
    "model = Sequential()\n",
    "\n",
    "### TODO: Define your architecture.\n",
    "model.add(Conv2D(filters=32, kernel_size=2, padding='same', activation='relu',\n",
    "                 input_shape=(224, 224, 3)))\n",
    "model.add(Conv2D(filters=32, kernel_size=2, padding='same', activation='relu'))\n",
    "model.add(MaxPooling2D(2))\n",
    "model.add(Conv2D(filters=64, kernel_size=2, padding='same', activation='relu'))\n",
    "model.add(Conv2D(filters=64, kernel_size=2, padding='same', activation='relu'))\n",
    "model.add(MaxPooling2D(2))\n",
    "model.add(Conv2D(filters=128, kernel_size=2, padding='same', activation='relu'))\n",
    "model.add(Conv2D(filters=128, kernel_size=2, padding='same', activation='relu'))\n",
    "model.add(GlobalMaxPooling2D())\n",
    "model.add(Dense(2056, activation='relu'))\n",
    "model.add(Dense(133, activation='softmax'))\n",
    "\n",
    "model.summary()"
   ]
  },
  {
   "cell_type": "markdown",
   "metadata": {},
   "source": [
    "### Compile the Model"
   ]
  },
  {
   "cell_type": "code",
   "execution_count": 62,
   "metadata": {},
   "outputs": [],
   "source": [
    "model.compile(optimizer='rmsprop', loss='categorical_crossentropy', metrics=['accuracy', 'Precision', 'Recall'])"
   ]
  },
  {
   "cell_type": "markdown",
   "metadata": {},
   "source": [
    "### (IMPLEMENTATION) Train the Model\n",
    "\n",
    "Train your model in the code cell below.  Use model checkpointing to save the model that attains the best validation loss.\n",
    "\n",
    "You are welcome to [augment the training data](https://blog.keras.io/building-powerful-image-classification-models-using-very-little-data.html), but this is not a requirement. "
   ]
  },
  {
   "cell_type": "code",
   "execution_count": 63,
   "metadata": {
    "scrolled": true
   },
   "outputs": [
    {
     "name": "stdout",
     "output_type": "stream",
     "text": [
      "Epoch 1/20\n",
      "334/334 [==============================] - 51s 149ms/step - loss: 4.8830 - accuracy: 0.0081 - precision: 0.0000e+00 - recall: 0.0000e+00 - val_loss: 4.8709 - val_accuracy: 0.0108 - val_precision: 0.0000e+00 - val_recall: 0.0000e+00\n",
      "\n",
      "Epoch 00001: val_loss improved from inf to 4.87093, saving model to saved_models\\weights.best.from_scratch.hdf5\n",
      "Epoch 2/20\n",
      "334/334 [==============================] - 50s 150ms/step - loss: 4.8728 - accuracy: 0.0102 - precision: 0.0000e+00 - recall: 0.0000e+00 - val_loss: 4.8699 - val_accuracy: 0.0108 - val_precision: 0.0000e+00 - val_recall: 0.0000e+00\n",
      "\n",
      "Epoch 00002: val_loss improved from 4.87093 to 4.86994, saving model to saved_models\\weights.best.from_scratch.hdf5\n",
      "Epoch 3/20\n",
      "334/334 [==============================] - 54s 162ms/step - loss: 4.8689 - accuracy: 0.0117 - precision: 0.0000e+00 - recall: 0.0000e+00 - val_loss: 4.8651 - val_accuracy: 0.0144 - val_precision: 0.0000e+00 - val_recall: 0.0000e+00\n",
      "\n",
      "Epoch 00003: val_loss improved from 4.86994 to 4.86515, saving model to saved_models\\weights.best.from_scratch.hdf5\n",
      "Epoch 4/20\n",
      "334/334 [==============================] - 54s 163ms/step - loss: 4.8515 - accuracy: 0.0157 - precision: 0.0000e+00 - recall: 0.0000e+00 - val_loss: 4.8322 - val_accuracy: 0.0144 - val_precision: 0.0000e+00 - val_recall: 0.0000e+00\n",
      "\n",
      "Epoch 00004: val_loss improved from 4.86515 to 4.83220, saving model to saved_models\\weights.best.from_scratch.hdf5\n",
      "Epoch 5/20\n",
      "334/334 [==============================] - 55s 163ms/step - loss: 4.8210 - accuracy: 0.0187 - precision: 0.0000e+00 - recall: 0.0000e+00 - val_loss: 4.8175 - val_accuracy: 0.0204 - val_precision: 0.0000e+00 - val_recall: 0.0000e+00\n",
      "\n",
      "Epoch 00005: val_loss improved from 4.83220 to 4.81753, saving model to saved_models\\weights.best.from_scratch.hdf5\n",
      "Epoch 6/20\n",
      "334/334 [==============================] - 55s 163ms/step - loss: 4.7867 - accuracy: 0.0172 - precision: 0.0000e+00 - recall: 0.0000e+00 - val_loss: 4.7580 - val_accuracy: 0.0156 - val_precision: 0.0000e+00 - val_recall: 0.0000e+00\n",
      "\n",
      "Epoch 00006: val_loss improved from 4.81753 to 4.75803, saving model to saved_models\\weights.best.from_scratch.hdf5\n",
      "Epoch 7/20\n",
      "334/334 [==============================] - 55s 164ms/step - loss: 4.7411 - accuracy: 0.0190 - precision: 0.0000e+00 - recall: 0.0000e+00 - val_loss: 4.7271 - val_accuracy: 0.0192 - val_precision: 0.0000e+00 - val_recall: 0.0000e+00\n",
      "\n",
      "Epoch 00007: val_loss improved from 4.75803 to 4.72713, saving model to saved_models\\weights.best.from_scratch.hdf5\n",
      "Epoch 8/20\n",
      "334/334 [==============================] - 55s 164ms/step - loss: 4.6589 - accuracy: 0.0284 - precision: 0.0000e+00 - recall: 0.0000e+00 - val_loss: 4.5724 - val_accuracy: 0.0359 - val_precision: 0.0000e+00 - val_recall: 0.0000e+00\n",
      "\n",
      "Epoch 00008: val_loss improved from 4.72713 to 4.57236, saving model to saved_models\\weights.best.from_scratch.hdf5\n",
      "Epoch 9/20\n",
      "334/334 [==============================] - 55s 165ms/step - loss: 4.4969 - accuracy: 0.0404 - precision: 0.0000e+00 - recall: 0.0000e+00 - val_loss: 4.4316 - val_accuracy: 0.0359 - val_precision: 0.0000e+00 - val_recall: 0.0000e+00\n",
      "\n",
      "Epoch 00009: val_loss improved from 4.57236 to 4.43156, saving model to saved_models\\weights.best.from_scratch.hdf5\n",
      "Epoch 10/20\n",
      "334/334 [==============================] - 55s 165ms/step - loss: 4.2755 - accuracy: 0.0575 - precision: 1.0000 - recall: 4.4910e-04 - val_loss: 4.3405 - val_accuracy: 0.0527 - val_precision: 0.0000e+00 - val_recall: 0.0000e+00\n",
      "\n",
      "Epoch 00010: val_loss improved from 4.43156 to 4.34052, saving model to saved_models\\weights.best.from_scratch.hdf5\n",
      "Epoch 11/20\n",
      "334/334 [==============================] - 55s 165ms/step - loss: 4.0632 - accuracy: 0.0807 - precision: 0.7000 - recall: 0.0021 - val_loss: 4.1401 - val_accuracy: 0.0707 - val_precision: 0.5000 - val_recall: 0.0024\n",
      "\n",
      "Epoch 00011: val_loss improved from 4.34052 to 4.14013, saving model to saved_models\\weights.best.from_scratch.hdf5\n",
      "Epoch 12/20\n",
      "334/334 [==============================] - 55s 165ms/step - loss: 3.8817 - accuracy: 0.1061 - precision: 0.5965 - recall: 0.0051 - val_loss: 4.1406 - val_accuracy: 0.0647 - val_precision: 0.5000 - val_recall: 0.0012\n",
      "\n",
      "Epoch 00012: val_loss did not improve from 4.14013\n",
      "Epoch 13/20\n",
      "334/334 [==============================] - 55s 165ms/step - loss: 3.7150 - accuracy: 0.1296 - precision: 0.6848 - recall: 0.0094 - val_loss: 4.2068 - val_accuracy: 0.0838 - val_precision: 0.2632 - val_recall: 0.0060\n",
      "\n",
      "Epoch 00013: val_loss did not improve from 4.14013\n",
      "Epoch 14/20\n",
      "334/334 [==============================] - 55s 165ms/step - loss: 3.5832 - accuracy: 0.1472 - precision: 0.6093 - recall: 0.0138 - val_loss: 3.8278 - val_accuracy: 0.1066 - val_precision: 0.3077 - val_recall: 0.0048\n",
      "\n",
      "Epoch 00014: val_loss improved from 4.14013 to 3.82782, saving model to saved_models\\weights.best.from_scratch.hdf5\n",
      "Epoch 15/20\n",
      "334/334 [==============================] - 55s 165ms/step - loss: 3.4437 - accuracy: 0.1689 - precision: 0.6500 - recall: 0.0234 - val_loss: 3.8432 - val_accuracy: 0.1138 - val_precision: 0.3684 - val_recall: 0.0084\n",
      "\n",
      "Epoch 00015: val_loss did not improve from 3.82782\n",
      "Epoch 16/20\n",
      "334/334 [==============================] - 55s 165ms/step - loss: 3.2999 - accuracy: 0.1850 - precision: 0.6598 - recall: 0.0334 - val_loss: 3.9911 - val_accuracy: 0.1054 - val_precision: 0.2203 - val_recall: 0.0156\n",
      "\n",
      "Epoch 00016: val_loss did not improve from 3.82782\n",
      "Epoch 17/20\n",
      "334/334 [==============================] - 55s 165ms/step - loss: 3.1593 - accuracy: 0.2106 - precision: 0.6412 - recall: 0.0415 - val_loss: 3.8092 - val_accuracy: 0.1174 - val_precision: 0.4722 - val_recall: 0.0204\n",
      "\n",
      "Epoch 00017: val_loss improved from 3.82782 to 3.80917, saving model to saved_models\\weights.best.from_scratch.hdf5\n",
      "Epoch 18/20\n",
      "334/334 [==============================] - 55s 165ms/step - loss: 3.0187 - accuracy: 0.2397 - precision: 0.6762 - recall: 0.0600 - val_loss: 3.8809 - val_accuracy: 0.1222 - val_precision: 0.4390 - val_recall: 0.0216\n",
      "\n",
      "Epoch 00018: val_loss did not improve from 3.80917\n",
      "Epoch 19/20\n",
      "334/334 [==============================] - 55s 165ms/step - loss: 2.8868 - accuracy: 0.2639 - precision: 0.7005 - recall: 0.0784 - val_loss: 3.9029 - val_accuracy: 0.1521 - val_precision: 0.3839 - val_recall: 0.0515\n",
      "\n",
      "Epoch 00019: val_loss did not improve from 3.80917\n",
      "Epoch 20/20\n",
      "334/334 [==============================] - 55s 165ms/step - loss: 2.7645 - accuracy: 0.2885 - precision: 0.6990 - recall: 0.0918 - val_loss: 3.8004 - val_accuracy: 0.1629 - val_precision: 0.4227 - val_recall: 0.0491\n",
      "\n",
      "Epoch 00020: val_loss improved from 3.80917 to 3.80041, saving model to saved_models\\weights.best.from_scratch.hdf5\n"
     ]
    },
    {
     "data": {
      "text/plain": [
       "<tensorflow.python.keras.callbacks.History at 0x2968a5afa30>"
      ]
     },
     "execution_count": 63,
     "metadata": {},
     "output_type": "execute_result"
    }
   ],
   "source": [
    "from keras.callbacks import ModelCheckpoint  \n",
    "\n",
    "### TODO: specify the number of epochs that you would like to use to train the model.\n",
    "\n",
    "epochs = 20\n",
    "\n",
    "### Do NOT modify the code below this line.\n",
    "\n",
    "checkpointer = ModelCheckpoint(filepath='saved_models/weights.best.from_scratch.hdf5', \n",
    "                               verbose=1, save_best_only=True)\n",
    "\n",
    "model.fit(train_tensors, train_targets, \n",
    "          validation_data=(valid_tensors, valid_targets),\n",
    "          epochs=epochs, batch_size=20, callbacks=[checkpointer], verbose=1)"
   ]
  },
  {
   "cell_type": "markdown",
   "metadata": {},
   "source": [
    "### Load the Model with the Best Validation Loss"
   ]
  },
  {
   "cell_type": "code",
   "execution_count": 64,
   "metadata": {},
   "outputs": [],
   "source": [
    "model.load_weights('saved_models/weights.best.from_scratch.hdf5')"
   ]
  },
  {
   "cell_type": "markdown",
   "metadata": {},
   "source": [
    "### Test the Model\n",
    "\n",
    "Try out your model on the test dataset of dog images.  Ensure that your test accuracy is greater than 1%."
   ]
  },
  {
   "cell_type": "code",
   "execution_count": 65,
   "metadata": {},
   "outputs": [
    {
     "name": "stdout",
     "output_type": "stream",
     "text": [
      "Test accuracy: 17.7033%\n"
     ]
    }
   ],
   "source": [
    "# get index of predicted dog breed for each image in test set\n",
    "dog_breed_predictions = [np.argmax(model.predict(np.expand_dims(tensor, axis=0))) for tensor in test_tensors]\n",
    "\n",
    "# report test accuracy\n",
    "test_accuracy = 100*np.sum(np.array(dog_breed_predictions)==np.argmax(test_targets, axis=1))/len(dog_breed_predictions)\n",
    "print('Test accuracy: %.4f%%' % test_accuracy)"
   ]
  },
  {
   "cell_type": "code",
   "execution_count": 66,
   "metadata": {},
   "outputs": [],
   "source": [
    "from sklearn.metrics import accuracy_score\n",
    "from sklearn.metrics import precision_score\n",
    "from sklearn.metrics import recall_score"
   ]
  },
  {
   "cell_type": "code",
   "execution_count": 67,
   "metadata": {},
   "outputs": [
    {
     "name": "stdout",
     "output_type": "stream",
     "text": [
      "Test accuracy: 0.17703349282296652\n",
      "Test precision: 0.18312648850165916\n",
      "Test recall: 0.16235230934479053\n"
     ]
    }
   ],
   "source": [
    "print(f'Test accuracy: {accuracy_score(np.argmax(test_targets, axis=1),np.array(dog_breed_predictions))}')\n",
    "print(f\"Test precision: {precision_score(np.argmax(test_targets, axis=1),np.array(dog_breed_predictions), average='macro', zero_division=0)}\")\n",
    "print(f\"Test recall: {recall_score(np.argmax(test_targets, axis=1),np.array(dog_breed_predictions), average='macro', zero_division=0)}\")"
   ]
  },
  {
   "cell_type": "markdown",
   "metadata": {},
   "source": [
    "---\n",
    "<a id='step4'></a>\n",
    "## Step 4: Use a CNN to Classify Dog Breeds\n",
    "\n",
    "To reduce training time without sacrificing accuracy, we show you how to train a CNN using transfer learning.  In the following step, you will get a chance to use transfer learning to train your own CNN.\n",
    "\n",
    "### Obtain Bottleneck Features"
   ]
  },
  {
   "cell_type": "code",
   "execution_count": 68,
   "metadata": {},
   "outputs": [],
   "source": [
    "bottleneck_features = np.load('bottleneck_features/DogVGG16Data.npz')\n",
    "train_VGG16 = bottleneck_features['train']\n",
    "valid_VGG16 = bottleneck_features['valid']\n",
    "test_VGG16 = bottleneck_features['test']"
   ]
  },
  {
   "cell_type": "markdown",
   "metadata": {},
   "source": [
    "### Model Architecture\n",
    "\n",
    "The model uses the the pre-trained VGG-16 model as a fixed feature extractor, where the last convolutional output of VGG-16 is fed as input to our model.  We only add a global average pooling layer and a fully connected layer, where the latter contains one node for each dog category and is equipped with a softmax."
   ]
  },
  {
   "cell_type": "code",
   "execution_count": 96,
   "metadata": {},
   "outputs": [
    {
     "name": "stdout",
     "output_type": "stream",
     "text": [
      "Model: \"sequential_9\"\n",
      "_________________________________________________________________\n",
      "Layer (type)                 Output Shape              Param #   \n",
      "=================================================================\n",
      "global_average_pooling2d_4 ( (None, 512)               0         \n",
      "_________________________________________________________________\n",
      "dense_14 (Dense)             (None, 133)               68229     \n",
      "=================================================================\n",
      "Total params: 68,229\n",
      "Trainable params: 68,229\n",
      "Non-trainable params: 0\n",
      "_________________________________________________________________\n"
     ]
    }
   ],
   "source": [
    "VGG16_model = Sequential()\n",
    "VGG16_model.add(GlobalAveragePooling2D(input_shape=train_VGG16.shape[1:]))\n",
    "VGG16_model.add(Dense(133, activation='softmax'))\n",
    "\n",
    "VGG16_model.summary()"
   ]
  },
  {
   "cell_type": "markdown",
   "metadata": {},
   "source": [
    "### Compile the Model"
   ]
  },
  {
   "cell_type": "code",
   "execution_count": 97,
   "metadata": {},
   "outputs": [],
   "source": [
    "VGG16_model.compile(loss='categorical_crossentropy', optimizer='rmsprop', metrics=['accuracy', 'Precision', 'Recall'])"
   ]
  },
  {
   "cell_type": "markdown",
   "metadata": {},
   "source": [
    "### Train the Model"
   ]
  },
  {
   "cell_type": "code",
   "execution_count": 98,
   "metadata": {
    "scrolled": true
   },
   "outputs": [
    {
     "name": "stdout",
     "output_type": "stream",
     "text": [
      "Epoch 1/20\n",
      "334/334 [==============================] - 2s 6ms/step - loss: 7.8221 - accuracy: 0.2428 - precision: 0.2736 - recall: 0.2240 - val_loss: 3.4616 - val_accuracy: 0.4611 - val_precision: 0.4932 - val_recall: 0.4311\n",
      "\n",
      "Epoch 00001: val_loss improved from inf to 3.46160, saving model to saved_models\\weights.best.VGG16.hdf5\n",
      "Epoch 2/20\n",
      "334/334 [==============================] - 2s 5ms/step - loss: 2.1913 - accuracy: 0.6006 - precision: 0.6348 - recall: 0.5813 - val_loss: 2.5350 - val_accuracy: 0.5760 - val_precision: 0.6081 - val_recall: 0.5593\n",
      "\n",
      "Epoch 00002: val_loss improved from 3.46160 to 2.53498, saving model to saved_models\\weights.best.VGG16.hdf5\n",
      "Epoch 3/20\n",
      "334/334 [==============================] - 2s 5ms/step - loss: 1.2441 - accuracy: 0.7427 - precision: 0.7682 - recall: 0.7292 - val_loss: 2.1331 - val_accuracy: 0.6431 - val_precision: 0.6650 - val_recall: 0.6323\n",
      "\n",
      "Epoch 00003: val_loss improved from 2.53498 to 2.13306, saving model to saved_models\\weights.best.VGG16.hdf5\n",
      "Epoch 4/20\n",
      "334/334 [==============================] - 2s 5ms/step - loss: 0.8235 - accuracy: 0.8135 - precision: 0.8313 - recall: 0.8033 - val_loss: 2.1113 - val_accuracy: 0.6503 - val_precision: 0.6667 - val_recall: 0.6419\n",
      "\n",
      "Epoch 00004: val_loss improved from 2.13306 to 2.11125, saving model to saved_models\\weights.best.VGG16.hdf5\n",
      "Epoch 5/20\n",
      "334/334 [==============================] - 2s 5ms/step - loss: 0.5605 - accuracy: 0.8588 - precision: 0.8737 - recall: 0.8513 - val_loss: 2.0100 - val_accuracy: 0.6802 - val_precision: 0.7056 - val_recall: 0.6659\n",
      "\n",
      "Epoch 00005: val_loss improved from 2.11125 to 2.00999, saving model to saved_models\\weights.best.VGG16.hdf5\n",
      "Epoch 6/20\n",
      "334/334 [==============================] - 2s 5ms/step - loss: 0.4236 - accuracy: 0.8859 - precision: 0.8968 - recall: 0.8790 - val_loss: 1.9990 - val_accuracy: 0.6862 - val_precision: 0.7041 - val_recall: 0.6838\n",
      "\n",
      "Epoch 00006: val_loss improved from 2.00999 to 1.99905, saving model to saved_models\\weights.best.VGG16.hdf5\n",
      "Epoch 7/20\n",
      "334/334 [==============================] - 2s 5ms/step - loss: 0.3013 - accuracy: 0.9172 - precision: 0.9243 - recall: 0.9121 - val_loss: 1.9609 - val_accuracy: 0.6994 - val_precision: 0.7071 - val_recall: 0.6910\n",
      "\n",
      "Epoch 00007: val_loss improved from 1.99905 to 1.96091, saving model to saved_models\\weights.best.VGG16.hdf5\n",
      "Epoch 8/20\n",
      "334/334 [==============================] - 2s 5ms/step - loss: 0.2185 - accuracy: 0.9371 - precision: 0.9433 - recall: 0.9319 - val_loss: 1.8366 - val_accuracy: 0.7054 - val_precision: 0.7153 - val_recall: 0.6982\n",
      "\n",
      "Epoch 00008: val_loss improved from 1.96091 to 1.83658, saving model to saved_models\\weights.best.VGG16.hdf5\n",
      "Epoch 9/20\n",
      "334/334 [==============================] - 2s 5ms/step - loss: 0.1736 - accuracy: 0.9476 - precision: 0.9525 - recall: 0.9455 - val_loss: 1.9217 - val_accuracy: 0.6982 - val_precision: 0.7129 - val_recall: 0.6958\n",
      "\n",
      "Epoch 00009: val_loss did not improve from 1.83658\n",
      "Epoch 10/20\n",
      "334/334 [==============================] - 2s 5ms/step - loss: 0.1302 - accuracy: 0.9617 - precision: 0.9646 - recall: 0.9582 - val_loss: 1.9600 - val_accuracy: 0.7126 - val_precision: 0.7227 - val_recall: 0.7054\n",
      "\n",
      "Epoch 00010: val_loss did not improve from 1.83658\n",
      "Epoch 11/20\n",
      "334/334 [==============================] - 2s 5ms/step - loss: 0.1125 - accuracy: 0.9695 - precision: 0.9709 - recall: 0.9677 - val_loss: 1.9355 - val_accuracy: 0.7138 - val_precision: 0.7282 - val_recall: 0.7090\n",
      "\n",
      "Epoch 00011: val_loss did not improve from 1.83658\n",
      "Epoch 12/20\n",
      "334/334 [==============================] - 2s 5ms/step - loss: 0.0770 - accuracy: 0.9754 - precision: 0.9763 - recall: 0.9747 - val_loss: 1.9047 - val_accuracy: 0.7102 - val_precision: 0.7239 - val_recall: 0.7066\n",
      "\n",
      "Epoch 00012: val_loss did not improve from 1.83658\n",
      "Epoch 13/20\n",
      "334/334 [==============================] - 2s 5ms/step - loss: 0.0607 - accuracy: 0.9817 - precision: 0.9825 - recall: 0.9811 - val_loss: 1.9012 - val_accuracy: 0.7078 - val_precision: 0.7215 - val_recall: 0.7042\n",
      "\n",
      "Epoch 00013: val_loss did not improve from 1.83658\n",
      "Epoch 14/20\n",
      "334/334 [==============================] - 2s 5ms/step - loss: 0.0519 - accuracy: 0.9841 - precision: 0.9846 - recall: 0.9840 - val_loss: 2.0756 - val_accuracy: 0.7030 - val_precision: 0.7112 - val_recall: 0.7018\n",
      "\n",
      "Epoch 00014: val_loss did not improve from 1.83658\n",
      "Epoch 15/20\n",
      "334/334 [==============================] - 2s 5ms/step - loss: 0.0386 - accuracy: 0.9876 - precision: 0.9879 - recall: 0.9871 - val_loss: 2.1356 - val_accuracy: 0.7078 - val_precision: 0.7219 - val_recall: 0.6994\n",
      "\n",
      "Epoch 00015: val_loss did not improve from 1.83658\n",
      "Epoch 16/20\n",
      "334/334 [==============================] - 2s 5ms/step - loss: 0.0384 - accuracy: 0.9894 - precision: 0.9897 - recall: 0.9888 - val_loss: 2.1164 - val_accuracy: 0.7066 - val_precision: 0.7153 - val_recall: 0.7042\n",
      "\n",
      "Epoch 00016: val_loss did not improve from 1.83658\n",
      "Epoch 17/20\n",
      "334/334 [==============================] - 2s 5ms/step - loss: 0.0346 - accuracy: 0.9880 - precision: 0.9888 - recall: 0.9879 - val_loss: 2.1343 - val_accuracy: 0.7329 - val_precision: 0.7421 - val_recall: 0.7269\n",
      "\n",
      "Epoch 00017: val_loss did not improve from 1.83658\n",
      "Epoch 18/20\n",
      "334/334 [==============================] - 2s 5ms/step - loss: 0.0248 - accuracy: 0.9922 - precision: 0.9922 - recall: 0.9921 - val_loss: 2.0085 - val_accuracy: 0.7257 - val_precision: 0.7305 - val_recall: 0.7174\n",
      "\n",
      "Epoch 00018: val_loss did not improve from 1.83658\n",
      "Epoch 19/20\n",
      "334/334 [==============================] - 2s 5ms/step - loss: 0.0226 - accuracy: 0.9934 - precision: 0.9934 - recall: 0.9934 - val_loss: 2.2509 - val_accuracy: 0.7329 - val_precision: 0.7397 - val_recall: 0.7281\n",
      "\n",
      "Epoch 00019: val_loss did not improve from 1.83658\n",
      "Epoch 20/20\n",
      "334/334 [==============================] - 2s 5ms/step - loss: 0.0188 - accuracy: 0.9940 - precision: 0.9942 - recall: 0.9940 - val_loss: 2.2218 - val_accuracy: 0.7138 - val_precision: 0.7179 - val_recall: 0.7102\n",
      "\n",
      "Epoch 00020: val_loss did not improve from 1.83658\n"
     ]
    },
    {
     "data": {
      "text/plain": [
       "<tensorflow.python.keras.callbacks.History at 0x2968fd7ea90>"
      ]
     },
     "execution_count": 98,
     "metadata": {},
     "output_type": "execute_result"
    }
   ],
   "source": [
    "checkpointer = ModelCheckpoint(filepath='saved_models/weights.best.VGG16.hdf5', \n",
    "                               verbose=1, save_best_only=True)\n",
    "\n",
    "VGG16_model.fit(train_VGG16, train_targets, \n",
    "          validation_data=(valid_VGG16, valid_targets),\n",
    "          epochs=20, batch_size=20, callbacks=[checkpointer], verbose=1)"
   ]
  },
  {
   "cell_type": "markdown",
   "metadata": {},
   "source": [
    "### Load the Model with the Best Validation Loss"
   ]
  },
  {
   "cell_type": "code",
   "execution_count": 99,
   "metadata": {},
   "outputs": [],
   "source": [
    "VGG16_model.load_weights('saved_models/weights.best.VGG16.hdf5')"
   ]
  },
  {
   "cell_type": "markdown",
   "metadata": {},
   "source": [
    "### Test the Model\n",
    "\n",
    "Now, we can use the CNN to test how well it identifies breed within our test dataset of dog images.  We print the test accuracy below."
   ]
  },
  {
   "cell_type": "code",
   "execution_count": 100,
   "metadata": {},
   "outputs": [
    {
     "name": "stdout",
     "output_type": "stream",
     "text": [
      "Test accuracy: 71.1722%\n"
     ]
    }
   ],
   "source": [
    "# get index of predicted dog breed for each image in test set\n",
    "VGG16_predictions = [np.argmax(VGG16_model.predict(np.expand_dims(feature, axis=0))) for feature in test_VGG16]\n",
    "\n",
    "# report test accuracy\n",
    "test_accuracy = 100*np.sum(np.array(VGG16_predictions)==np.argmax(test_targets, axis=1))/len(VGG16_predictions)\n",
    "print('Test accuracy: %.4f%%' % test_accuracy)"
   ]
  },
  {
   "cell_type": "code",
   "execution_count": 101,
   "metadata": {},
   "outputs": [
    {
     "name": "stdout",
     "output_type": "stream",
     "text": [
      "Test accuracy: 0.7117224880382775\n",
      "Test precision: 0.7359329058577179\n",
      "Test recall: 0.7012232963360784\n"
     ]
    }
   ],
   "source": [
    "print(f'Test accuracy: {accuracy_score(np.argmax(test_targets, axis=1), np.array(VGG16_predictions))}')\n",
    "print(f\"Test precision: {precision_score(np.argmax(test_targets, axis=1), np.array(VGG16_predictions), average='macro', zero_division=0)}\")\n",
    "print(f\"Test recall: {recall_score(np.argmax(test_targets, axis=1), np.array(VGG16_predictions), average='macro', zero_division=0)}\")"
   ]
  },
  {
   "cell_type": "markdown",
   "metadata": {},
   "source": [
    "### Predict Dog Breed with the Model"
   ]
  },
  {
   "cell_type": "code",
   "execution_count": 102,
   "metadata": {},
   "outputs": [],
   "source": [
    "from extract_bottleneck_features import *\n",
    "\n",
    "def VGG16_predict_breed(img_path):\n",
    "    # extract bottleneck features\n",
    "    bottleneck_feature = extract_VGG16(path_to_tensor(img_path))\n",
    "    #print(bottleneck_feature.shape)\n",
    "    # obtain predicted vector\n",
    "    predicted_vector = VGG16_model.predict(bottleneck_feature)\n",
    "    # return dog breed that is predicted by the model\n",
    "    return dog_names[np.argmax(predicted_vector)]"
   ]
  },
  {
   "cell_type": "markdown",
   "metadata": {},
   "source": [
    "---\n",
    "<a id='step5'></a>\n",
    "## Step 5: Create a CNN to Classify Dog Breeds (using Transfer Learning)\n",
    "\n",
    "You will now use transfer learning to create a CNN that can identify dog breed from images.  Your CNN must attain at least 60% accuracy on the test set.\n",
    "\n",
    "In Step 4, we used transfer learning to create a CNN using VGG-16 bottleneck features.  In this section, you must use the bottleneck features from a different pre-trained model.  To make things easier for you, we have pre-computed the features for all of the networks that are currently available in Keras:\n",
    "- [VGG-19](https://s3-us-west-1.amazonaws.com/udacity-aind/dog-project/DogVGG19Data.npz) bottleneck features\n",
    "- [ResNet-50](https://s3-us-west-1.amazonaws.com/udacity-aind/dog-project/DogResnet50Data.npz) bottleneck features\n",
    "- [Inception](https://s3-us-west-1.amazonaws.com/udacity-aind/dog-project/DogInceptionV3Data.npz) bottleneck features\n",
    "- [Xception](https://s3-us-west-1.amazonaws.com/udacity-aind/dog-project/DogXceptionData.npz) bottleneck features\n",
    "\n",
    "The files are encoded as such:\n",
    "\n",
    "    Dog{network}Data.npz\n",
    "    \n",
    "where `{network}`, in the above filename, can be one of `VGG19`, `Resnet50`, `InceptionV3`, or `Xception`.  Pick one of the above architectures, download the corresponding bottleneck features, and store the downloaded file in the `bottleneck_features/` folder in the repository.\n",
    "\n",
    "### (IMPLEMENTATION) Obtain Bottleneck Features\n",
    "\n",
    "In the code block below, extract the bottleneck features corresponding to the train, test, and validation sets by running the following:\n",
    "\n",
    "    bottleneck_features = np.load('bottleneck_features/Dog{network}Data.npz')\n",
    "    train_{network} = bottleneck_features['train']\n",
    "    valid_{network} = bottleneck_features['valid']\n",
    "    test_{network} = bottleneck_features['test']"
   ]
  },
  {
   "cell_type": "code",
   "execution_count": 103,
   "metadata": {},
   "outputs": [],
   "source": [
    "### TODO: Obtain bottleneck features from another pre-trained CNN.\n",
    "bottleneck_features = np.load(\"bottleneck_features/DogResnet50Data.npz\")\n",
    "train_Resnet50 = bottleneck_features['train']\n",
    "valid_Resnet50 = bottleneck_features['valid']\n",
    "test_Resnet50 = bottleneck_features['test']"
   ]
  },
  {
   "cell_type": "markdown",
   "metadata": {},
   "source": [
    "### (IMPLEMENTATION) Model Architecture\n",
    "\n",
    "Create a CNN to classify dog breed.  At the end of your code cell block, summarize the layers of your model by executing the line:\n",
    "    \n",
    "        <your model's name>.summary()\n",
    "   \n",
    "__Question 5:__ Outline the steps you took to get to your final CNN architecture and your reasoning at each step.  Describe why you think the architecture is suitable for the current problem.\n",
    "\n",
    "__Answer:__ \n",
    "<br>The model is derived from the ResNet50 architecture after the base model, which uses only a GlobalAvgPooling layer and a fully connected dense layer with the required number of categories to classify. \n",
    "I tried to add multiple fc layers with dropout instead of the pooling and 1x fc layer but could not gain any significant improvement. Even though the training accuracy moves over 90%. \n",
    "\n",
    "However, with the current global max pooling, dropout  and the 133 categories fc layer a reasonable accuracy > ~80% is gained.\n",
    "Maybe image augmentation is the key for generalization but running a data_generator.flow through resnet50 and not only using the extracted bottleneck features I skipped for the moment."
   ]
  },
  {
   "cell_type": "code",
   "execution_count": 293,
   "metadata": {},
   "outputs": [
    {
     "name": "stdout",
     "output_type": "stream",
     "text": [
      "Model: \"sequential_41\"\n",
      "_________________________________________________________________\n",
      "Layer (type)                 Output Shape              Param #   \n",
      "=================================================================\n",
      "global_average_pooling2d_26  (None, 2048)              0         \n",
      "_________________________________________________________________\n",
      "dense_61 (Dense)             (None, 133)               272517    \n",
      "=================================================================\n",
      "Total params: 272,517\n",
      "Trainable params: 272,517\n",
      "Non-trainable params: 0\n",
      "_________________________________________________________________\n"
     ]
    }
   ],
   "source": [
    "from keras.layers import InputLayer, GlobalMaxPool2D, MaxPooling2D\n",
    "from keras import regularizers\n",
    "### TODO: Define your architecture.\n",
    "\n",
    "Resnet50_model = Sequential()\n",
    "\n",
    "Resnet50_model.add(InputLayer(train_Resnet50.shape[1:]))\n",
    "Resnet50_model.add(GlobalAveragePooling2D())\n",
    "#Resnet50_model.add(GlobalMaxPool2D())\n",
    "#Resnet50_model.add(Dropout(0.5))\n",
    "\n",
    "#Resnet50_model.add(InputLayer(train_Resnet50.shape[1:]))\n",
    "#Resnet50_model.add(Dense(2048, activation='relu'))\n",
    "#Resnet50_model.add(Dropout(0.1))\n",
    "#Resnet50_model.add(Dense(2048, activation='relu'))\n",
    "#Resnet50_model.add(Dropout(0.5))\n",
    "#Resnet50_model.add(Flatten())\n",
    "#Resnet50_model.add(Dense(512, activation='relu'))\n",
    "#Resnet50_model.add(Dropout(0.1))\n",
    "\n",
    "Resnet50_model.add(Dense(133, activation='softmax'))\n",
    "\n",
    "Resnet50_model.summary()"
   ]
  },
  {
   "cell_type": "markdown",
   "metadata": {},
   "source": [
    "### (IMPLEMENTATION) Compile the Model"
   ]
  },
  {
   "cell_type": "code",
   "execution_count": 294,
   "metadata": {},
   "outputs": [],
   "source": [
    "### TODO: Compile the model.\n",
    "Resnet50_model.compile(optimizer='adam', loss='categorical_crossentropy', metrics=['accuracy', 'Precision', 'Recall'])"
   ]
  },
  {
   "cell_type": "markdown",
   "metadata": {},
   "source": [
    "### (IMPLEMENTATION) Train the Model\n",
    "\n",
    "Train your model in the code cell below.  Use model checkpointing to save the model that attains the best validation loss.  \n",
    "\n",
    "You are welcome to [augment the training data](https://blog.keras.io/building-powerful-image-classification-models-using-very-little-data.html), but this is not a requirement. "
   ]
  },
  {
   "cell_type": "code",
   "execution_count": 295,
   "metadata": {
    "scrolled": true
   },
   "outputs": [
    {
     "name": "stdout",
     "output_type": "stream",
     "text": [
      "Epoch 1/20\n",
      "209/209 [==============================] - 2s 5ms/step - loss: 1.8344 - accuracy: 0.5801 - precision: 0.8802 - recall: 0.3575 - val_loss: 0.9076 - val_accuracy: 0.7365 - val_precision: 0.8663 - val_recall: 0.5976\n",
      "\n",
      "Epoch 00001: val_loss improved from inf to 0.90760, saving model to saved_models\\weights.best.Resnet50.hdf5\n",
      "Epoch 2/20\n",
      "209/209 [==============================] - 1s 4ms/step - loss: 0.4120 - accuracy: 0.8949 - precision: 0.9478 - recall: 0.8183 - val_loss: 0.7271 - val_accuracy: 0.7808 - val_precision: 0.8716 - val_recall: 0.6910\n",
      "\n",
      "Epoch 00002: val_loss improved from 0.90760 to 0.72712, saving model to saved_models\\weights.best.Resnet50.hdf5\n",
      "Epoch 3/20\n",
      "209/209 [==============================] - 1s 4ms/step - loss: 0.2087 - accuracy: 0.9609 - precision: 0.9767 - recall: 0.9268 - val_loss: 0.6369 - val_accuracy: 0.7976 - val_precision: 0.8545 - val_recall: 0.7317\n",
      "\n",
      "Epoch 00003: val_loss improved from 0.72712 to 0.63692, saving model to saved_models\\weights.best.Resnet50.hdf5\n",
      "Epoch 4/20\n",
      "209/209 [==============================] - 1s 4ms/step - loss: 0.1180 - accuracy: 0.9853 - precision: 0.9917 - recall: 0.9711 - val_loss: 0.6264 - val_accuracy: 0.8084 - val_precision: 0.8659 - val_recall: 0.7653\n",
      "\n",
      "Epoch 00004: val_loss improved from 0.63692 to 0.62635, saving model to saved_models\\weights.best.Resnet50.hdf5\n",
      "Epoch 5/20\n",
      "209/209 [==============================] - 1s 4ms/step - loss: 0.0736 - accuracy: 0.9955 - precision: 0.9962 - recall: 0.9916 - val_loss: 0.5737 - val_accuracy: 0.8228 - val_precision: 0.8759 - val_recall: 0.7689\n",
      "\n",
      "Epoch 00005: val_loss improved from 0.62635 to 0.57367, saving model to saved_models\\weights.best.Resnet50.hdf5\n",
      "Epoch 6/20\n",
      "209/209 [==============================] - 1s 4ms/step - loss: 0.0492 - accuracy: 0.9981 - precision: 0.9984 - recall: 0.9976 - val_loss: 0.5893 - val_accuracy: 0.8156 - val_precision: 0.8505 - val_recall: 0.7701\n",
      "\n",
      "Epoch 00006: val_loss did not improve from 0.57367\n",
      "Epoch 7/20\n",
      "209/209 [==============================] - 1s 4ms/step - loss: 0.0398 - accuracy: 0.9979 - precision: 0.9981 - recall: 0.9978 - val_loss: 0.5581 - val_accuracy: 0.8287 - val_precision: 0.8649 - val_recall: 0.7976\n",
      "\n",
      "Epoch 00007: val_loss improved from 0.57367 to 0.55806, saving model to saved_models\\weights.best.Resnet50.hdf5\n",
      "Epoch 8/20\n",
      "209/209 [==============================] - 1s 4ms/step - loss: 0.0312 - accuracy: 0.9982 - precision: 0.9982 - recall: 0.9981 - val_loss: 0.5756 - val_accuracy: 0.8335 - val_precision: 0.8678 - val_recall: 0.7940\n",
      "\n",
      "Epoch 00008: val_loss did not improve from 0.55806\n",
      "Epoch 9/20\n",
      "209/209 [==============================] - 1s 4ms/step - loss: 0.0271 - accuracy: 0.9984 - precision: 0.9984 - recall: 0.9984 - val_loss: 0.5570 - val_accuracy: 0.8335 - val_precision: 0.8669 - val_recall: 0.8036\n",
      "\n",
      "Epoch 00009: val_loss improved from 0.55806 to 0.55699, saving model to saved_models\\weights.best.Resnet50.hdf5\n",
      "Epoch 10/20\n",
      "209/209 [==============================] - 1s 4ms/step - loss: 0.0234 - accuracy: 0.9976 - precision: 0.9978 - recall: 0.9976 - val_loss: 0.5679 - val_accuracy: 0.8371 - val_precision: 0.8712 - val_recall: 0.8180\n",
      "\n",
      "Epoch 00010: val_loss did not improve from 0.55699\n",
      "Epoch 11/20\n",
      "209/209 [==============================] - 1s 4ms/step - loss: 0.0201 - accuracy: 0.9984 - precision: 0.9987 - recall: 0.9984 - val_loss: 0.5624 - val_accuracy: 0.8287 - val_precision: 0.8586 - val_recall: 0.8000\n",
      "\n",
      "Epoch 00011: val_loss did not improve from 0.55699\n",
      "Epoch 12/20\n",
      "209/209 [==============================] - 1s 4ms/step - loss: 0.0180 - accuracy: 0.9981 - precision: 0.9982 - recall: 0.9979 - val_loss: 0.6111 - val_accuracy: 0.8275 - val_precision: 0.8555 - val_recall: 0.8012\n",
      "\n",
      "Epoch 00012: val_loss did not improve from 0.55699\n",
      "Epoch 13/20\n",
      "209/209 [==============================] - 1s 4ms/step - loss: 0.0209 - accuracy: 0.9967 - precision: 0.9967 - recall: 0.9967 - val_loss: 0.5980 - val_accuracy: 0.8323 - val_precision: 0.8595 - val_recall: 0.8060\n",
      "\n",
      "Epoch 00013: val_loss did not improve from 0.55699\n",
      "Epoch 14/20\n",
      "209/209 [==============================] - 1s 4ms/step - loss: 0.0168 - accuracy: 0.9975 - precision: 0.9976 - recall: 0.9975 - val_loss: 0.5793 - val_accuracy: 0.8311 - val_precision: 0.8573 - val_recall: 0.8060\n",
      "\n",
      "Epoch 00014: val_loss did not improve from 0.55699\n",
      "Epoch 15/20\n",
      "209/209 [==============================] - 1s 4ms/step - loss: 0.0136 - accuracy: 0.9978 - precision: 0.9978 - recall: 0.9978 - val_loss: 0.5943 - val_accuracy: 0.8311 - val_precision: 0.8537 - val_recall: 0.8108\n",
      "\n",
      "Epoch 00015: val_loss did not improve from 0.55699\n",
      "Epoch 16/20\n",
      "209/209 [==============================] - 1s 4ms/step - loss: 0.0149 - accuracy: 0.9976 - precision: 0.9976 - recall: 0.9976 - val_loss: 0.6180 - val_accuracy: 0.8299 - val_precision: 0.8586 - val_recall: 0.8072\n",
      "\n",
      "Epoch 00016: val_loss did not improve from 0.55699\n",
      "Epoch 17/20\n",
      "209/209 [==============================] - 1s 4ms/step - loss: 0.0141 - accuracy: 0.9976 - precision: 0.9976 - recall: 0.9975 - val_loss: 0.5996 - val_accuracy: 0.8323 - val_precision: 0.8579 - val_recall: 0.8096\n",
      "\n",
      "Epoch 00017: val_loss did not improve from 0.55699\n",
      "Epoch 18/20\n",
      "209/209 [==============================] - 1s 4ms/step - loss: 0.0102 - accuracy: 0.9984 - precision: 0.9984 - recall: 0.9984 - val_loss: 0.6126 - val_accuracy: 0.8299 - val_precision: 0.8545 - val_recall: 0.8156\n",
      "\n",
      "Epoch 00018: val_loss did not improve from 0.55699\n",
      "Epoch 19/20\n",
      "209/209 [==============================] - 1s 4ms/step - loss: 0.0113 - accuracy: 0.9979 - precision: 0.9979 - recall: 0.9979 - val_loss: 0.7078 - val_accuracy: 0.8180 - val_precision: 0.8418 - val_recall: 0.7964\n",
      "\n",
      "Epoch 00019: val_loss did not improve from 0.55699\n",
      "Epoch 20/20\n",
      "209/209 [==============================] - 1s 4ms/step - loss: 0.0143 - accuracy: 0.9972 - precision: 0.9972 - recall: 0.9972 - val_loss: 0.6415 - val_accuracy: 0.8251 - val_precision: 0.8521 - val_recall: 0.8072\n",
      "\n",
      "Epoch 00020: val_loss did not improve from 0.55699\n"
     ]
    },
    {
     "data": {
      "text/plain": [
       "<tensorflow.python.keras.callbacks.History at 0x296db3a1e50>"
      ]
     },
     "execution_count": 295,
     "metadata": {},
     "output_type": "execute_result"
    }
   ],
   "source": [
    "### TODO: Train the model.\n",
    "from keras.callbacks import ModelCheckpoint\n",
    "from keras.preprocessing.image import ImageDataGenerator\n",
    "\n",
    "# set model checkpoint that saves weights when loss is reduced\n",
    "checkpointer = ModelCheckpoint(filepath='saved_models/weights.best.Resnet50.hdf5', \n",
    "                               verbose=1, save_best_only=True)\n",
    "\n",
    "# train model\n",
    "Resnet50_model.fit(train_Resnet50, train_targets,\n",
    "                   batch_size=32, epochs=20, verbose=1,\n",
    "                   callbacks=[checkpointer],\n",
    "                   validation_data=(valid_Resnet50, valid_targets),\n",
    "                   shuffle=True\n",
    "                  )"
   ]
  },
  {
   "cell_type": "markdown",
   "metadata": {},
   "source": [
    "### (IMPLEMENTATION) Load the Model with the Best Validation Loss"
   ]
  },
  {
   "cell_type": "code",
   "execution_count": 296,
   "metadata": {},
   "outputs": [],
   "source": [
    "### TODO: Load the model weights with the best validation loss.\n",
    "Resnet50_model.load_weights('saved_models/weights.best.Resnet50.hdf5')"
   ]
  },
  {
   "cell_type": "markdown",
   "metadata": {},
   "source": [
    "### (IMPLEMENTATION) Test the Model\n",
    "\n",
    "Try out your model on the test dataset of dog images. Ensure that your test accuracy is greater than 60%."
   ]
  },
  {
   "cell_type": "code",
   "execution_count": 297,
   "metadata": {},
   "outputs": [
    {
     "name": "stdout",
     "output_type": "stream",
     "text": [
      "27/27 [==============================] - 0s 601us/step\n",
      "Test accuracy: 84.21%\n"
     ]
    }
   ],
   "source": [
    "### TODO: Calculate classification accuracy on the test dataset.\n",
    "prediction = Resnet50_model.predict(test_Resnet50, verbose=1)\n",
    "Resnet50_acc = 100*np.mean(np.argmax(prediction, axis=1) == np.argmax(test_targets, axis=1))\n",
    "\n",
    "print(f\"Test accuracy: {Resnet50_acc:.2f}%\")"
   ]
  },
  {
   "cell_type": "raw",
   "metadata": {},
   "source": [
    "from sklearn.metrics import accuracy_score\n",
    "from sklearn.metrics import precision_score\n",
    "from sklearn.metrics import recall_score"
   ]
  },
  {
   "cell_type": "raw",
   "metadata": {},
   "source": [
    "precision_score(np.argmax(test_targets, axis=1), np.argmax(prediction, axis=1), average=None, zero_division=0).sum()/133"
   ]
  },
  {
   "cell_type": "raw",
   "metadata": {},
   "source": [
    "precision_score(np.argmax(test_targets, axis=1), np.argmax(prediction, axis=1), average='macro', zero_division=0)"
   ]
  },
  {
   "cell_type": "code",
   "execution_count": 298,
   "metadata": {},
   "outputs": [
    {
     "name": "stdout",
     "output_type": "stream",
     "text": [
      "Test accuracy: 0.8421052631578947\n",
      "Test precision: 0.8598680141913224\n",
      "Test recall: 0.8283208020050125\n"
     ]
    }
   ],
   "source": [
    "print(f'Test accuracy: {accuracy_score(np.argmax(test_targets, axis=1), np.argmax(prediction, axis=1))}')\n",
    "print(f\"Test precision: {precision_score(np.argmax(test_targets, axis=1), np.argmax(prediction, axis=1), average='macro', zero_division=0)}\")\n",
    "print(f\"Test recall: {recall_score(np.argmax(test_targets, axis=1), np.argmax(prediction, axis=1), average='macro', zero_division=0)}\")"
   ]
  },
  {
   "cell_type": "code",
   "execution_count": 305,
   "metadata": {},
   "outputs": [
    {
     "name": "stdout",
     "output_type": "stream",
     "text": [
      "Test precision, weighted: 0.8650172262612456\n",
      "Test recall, weighted: 0.8421052631578947\n"
     ]
    }
   ],
   "source": [
    "# weighted precision and recall\n",
    "print(f\"Test precision, weighted: {precision_score(np.argmax(test_targets, axis=1), np.argmax(prediction, axis=1), average='weighted', zero_division=0)}\")\n",
    "print(f\"Test recall, weighted: {recall_score(np.argmax(test_targets, axis=1), np.argmax(prediction, axis=1), average='weighted', zero_division=0)}\")"
   ]
  },
  {
   "cell_type": "code",
   "execution_count": 303,
   "metadata": {},
   "outputs": [
    {
     "name": "stdout",
     "output_type": "stream",
     "text": [
      "INFO:tensorflow:Assets written to: saved_models/resnet50\\assets\n"
     ]
    }
   ],
   "source": [
    "# save Resnet50_model for later use in web app\n",
    "Resnet50_model.save(\"saved_models/resnet50\")"
   ]
  },
  {
   "cell_type": "markdown",
   "metadata": {},
   "source": [
    "### (IMPLEMENTATION) Predict Dog Breed with the Model\n",
    "\n",
    "Write a function that takes an image path as input and returns the dog breed (`Affenpinscher`, `Afghan_hound`, etc) that is predicted by your model.  \n",
    "\n",
    "Similar to the analogous function in Step 5, your function should have three steps:\n",
    "1. Extract the bottleneck features corresponding to the chosen CNN model.\n",
    "2. Supply the bottleneck features as input to the model to return the predicted vector.  Note that the argmax of this prediction vector gives the index of the predicted dog breed.\n",
    "3. Use the `dog_names` array defined in Step 0 of this notebook to return the corresponding breed.\n",
    "\n",
    "The functions to extract the bottleneck features can be found in `extract_bottleneck_features.py`, and they have been imported in an earlier code cell.  To obtain the bottleneck features corresponding to your chosen CNN architecture, you need to use the function\n",
    "\n",
    "    extract_{network}\n",
    "    \n",
    "where `{network}`, in the above filename, should be one of `VGG19`, `Resnet50`, `InceptionV3`, or `Xception`."
   ]
  },
  {
   "cell_type": "code",
   "execution_count": 299,
   "metadata": {},
   "outputs": [],
   "source": [
    "### TODO: Write a function that takes a path to an image as input\n",
    "### and returns the dog breed that is predicted by the model.\n",
    "from extract_bottleneck_features import extract_Resnet50\n",
    "\n",
    "def Resnet50_predict_breed(img_path):\n",
    "    '''\n",
    "    Function takes a image path and returns the according dog breed.\n",
    "    Steps are:\n",
    "    - use path_to_tensor() to convert img to tensor of shape (1, 224, 224, 3)\n",
    "    - use extract_Resnet50() to preprocess img tensor for ResNet50 and pass through \n",
    "      ResNet50 without top (top= classifier / fc layer) -> bottleneck feature/tensor\n",
    "    - adapt dimensions of bottleneck feature to fit created Resnet50_model classifier\n",
    "      trained for dog classification \n",
    "    - predict dog breed with Resnet50_model -> returns array with probabilities\n",
    "      for 133 dog classes\n",
    "    - from list with dog names take name for max value index of Resnet50_model output    \n",
    "    \n",
    "    Input: str, path to image\n",
    "    Output: str, dog breed name\n",
    "    '''\n",
    "    # extract bottleneck features\n",
    "    tensor = path_to_tensor(img_path)\n",
    "    # extract_Resnet50 = ResNet50(weights='imagenet', include_top=False, pooling='max')\\\n",
    "    # .predict(preprocess_input(tensor))\n",
    "    # pooling='max' (or avg) was required to reduce 7,7,x to 1,x dims\n",
    "    # otherwise the extract_Resnet50 output do not fit for Resnet50_model.predict()\n",
    "    bottleneck_feature = extract_Resnet50(tensor)\n",
    "    # adapt dimensions from (1, 2048) to req'd input shape (1,1,1,2048)\n",
    "    bottleneck_feature = np.expand_dims(np.expand_dims(bottleneck_feature, axis=0), axis=0)\n",
    "    # obtain predicted vector\n",
    "    predicted_vector = Resnet50_model.predict(bottleneck_feature)\n",
    "    # return dog breed that is predicted by the model\n",
    "    return dog_names[np.argmax(predicted_vector)].split('.')[-1]"
   ]
  },
  {
   "cell_type": "markdown",
   "metadata": {},
   "source": [
    "---\n",
    "<a id='step6'></a>\n",
    "## Step 6: Write your Algorithm\n",
    "\n",
    "Write an algorithm that accepts a file path to an image and first determines whether the image contains a human, dog, or neither.  Then,\n",
    "- if a __dog__ is detected in the image, return the predicted breed.\n",
    "- if a __human__ is detected in the image, return the resembling dog breed.\n",
    "- if __neither__ is detected in the image, provide output that indicates an error.\n",
    "\n",
    "You are welcome to write your own functions for detecting humans and dogs in images, but feel free to use the `face_detector` and `dog_detector` functions developed above.  You are __required__ to use your CNN from Step 5 to predict dog breed.  \n",
    "\n",
    "A sample image and output for our algorithm is provided below, but feel free to design your own user experience!\n",
    "\n",
    "![Sample Human Output](images/sample_human_2.png)\n",
    "\n",
    "This photo looks like an Afghan Hound.\n",
    "### (IMPLEMENTATION) Write your Algorithm"
   ]
  },
  {
   "cell_type": "code",
   "execution_count": 300,
   "metadata": {},
   "outputs": [],
   "source": [
    "### TODO: Write your algorithm.\n",
    "### Feel free to use as many code cells as needed."
   ]
  },
  {
   "cell_type": "code",
   "execution_count": 301,
   "metadata": {},
   "outputs": [],
   "source": [
    "def determine_dog_breed(img_path):\n",
    "    '''\n",
    "    Function takes a path to an image and\n",
    "    checks if it a human face or a dog could be detected.\n",
    "    Accordingly, a message will be printed with the dog breed or\n",
    "    resampling dog breed for a human.\n",
    "    If detection fails an error message is printed.\n",
    "    Finally, the dog breed or if failed 'None' is returned\n",
    "    \n",
    "    Input: str, path to image\n",
    "    Output: str, name of dog breed\n",
    "    '''\n",
    "    human = face_detector(img_path)\n",
    "    dog = dog_detector(img_path)\n",
    "    \n",
    "    if (human == True) or (dog == True):\n",
    "        dog_breed = Resnet50_predict_breed(img_path)\n",
    "        \n",
    "        if dog: \n",
    "            print(f'Dog detected, according dog breed is:  {dog_breed}')\n",
    "        elif human: \n",
    "            print(f'Human detected, hilarious similarity with a:  {dog_breed}!')\n",
    "\n",
    "    else:\n",
    "        print(\"Neither a human nor a dog could be identified on that image...\")\n",
    "        dog_breed = None\n",
    "        \n",
    "    return dog_breed"
   ]
  },
  {
   "cell_type": "markdown",
   "metadata": {},
   "source": [
    "---\n",
    "<a id='step7'></a>\n",
    "## Step 7: Test Your Algorithm\n",
    "\n",
    "In this section, you will take your new algorithm for a spin!  What kind of dog does the algorithm think that __you__ look like?  If you have a dog, does it predict your dog's breed accurately?  If you have a cat, does it mistakenly think that your cat is a dog?\n",
    "\n",
    "### (IMPLEMENTATION) Test Your Algorithm on Sample Images!\n",
    "\n",
    "Test your algorithm at least six images on your computer.  Feel free to use any images you like.  Use at least two human and two dog images.  \n",
    "\n",
    "__Question 6:__ Is the output better than you expected :) ?  Or worse :( ?  Provide at least three possible points of improvement for your algorithm.\n",
    "\n",
    "__Answer:__ \n",
    "\n",
    "The prediction is better than expected. The only not classified dog is the american staffordshire terrier labeled example. <br>\n",
    "Here image augmentation could help to better generalize.\n",
    "A better generalization could also be gained by improvement of dropout or regularization. The difference in accuracy between trainig and validation set indicates overfitting. However for the current model based on feature extraction only I tried dropout in combination with dense layers but could not gain a significant improvement. "
   ]
  },
  {
   "cell_type": "code",
   "execution_count": 302,
   "metadata": {},
   "outputs": [
    {
     "name": "stdout",
     "output_type": "stream",
     "text": [
      "Input File: American_water_spaniel_00648.jpg\n",
      "Dog detected, according dog breed is:  American_water_spaniel\n",
      "\n",
      "\n",
      "Input File: Brittany_02625.jpg\n",
      "Dog detected, according dog breed is:  Brittany\n",
      "\n",
      "\n",
      "Input File: Curly-coated_retriever_03896.jpg\n",
      "Dog detected, according dog breed is:  Curly-coated_retriever\n",
      "\n",
      "\n",
      "Input File: Labrador_retriever_06449.jpg\n",
      "WARNING:tensorflow:5 out of the last 38 calls to <function Model.make_predict_function.<locals>.predict_function at 0x00000296DB2F28B0> triggered tf.function retracing. Tracing is expensive and the excessive number of tracings could be due to (1) creating @tf.function repeatedly in a loop, (2) passing tensors with different shapes, (3) passing Python objects instead of tensors. For (1), please define your @tf.function outside of the loop. For (2), @tf.function has experimental_relax_shapes=True option that relaxes argument shapes that can avoid unnecessary retracing. For (3), please refer to https://www.tensorflow.org/guide/function#controlling_retracing and https://www.tensorflow.org/api_docs/python/tf/function for  more details.\n",
      "Dog detected, according dog breed is:  Labrador_retriever\n",
      "\n",
      "\n",
      "Input File: Labrador_retriever_06455.jpg\n",
      "WARNING:tensorflow:5 out of the last 13 calls to <function Model.make_predict_function.<locals>.predict_function at 0x00000296A81370D0> triggered tf.function retracing. Tracing is expensive and the excessive number of tracings could be due to (1) creating @tf.function repeatedly in a loop, (2) passing tensors with different shapes, (3) passing Python objects instead of tensors. For (1), please define your @tf.function outside of the loop. For (2), @tf.function has experimental_relax_shapes=True option that relaxes argument shapes that can avoid unnecessary retracing. For (3), please refer to https://www.tensorflow.org/guide/function#controlling_retracing and https://www.tensorflow.org/api_docs/python/tf/function for  more details.\n",
      "Dog detected, according dog breed is:  Chesapeake_bay_retriever\n",
      "\n",
      "\n",
      "Input File: Labrador_retriever_06457.jpg\n",
      "Dog detected, according dog breed is:  Labrador_retriever\n",
      "\n",
      "\n",
      "Input File: sample_cnn.png\n",
      "Neither a human nor a dog could be identified on that image...\n",
      "\n",
      "\n",
      "Input File: sample_dog_output.png\n",
      "Neither a human nor a dog could be identified on that image...\n",
      "\n",
      "\n",
      "Input File: sample_human_2.png\n",
      "Human detected, hilarious similarity with a:  Afghan_hound!\n",
      "\n",
      "\n",
      "Input File: sample_human_output.png\n",
      "Human detected, hilarious similarity with a:  English_toy_spaniel!\n",
      "\n",
      "\n",
      "Input File: Welsh_springer_spaniel_08203.jpg\n",
      "Dog detected, according dog breed is:  Welsh_springer_spaniel\n",
      "\n",
      "\n"
     ]
    }
   ],
   "source": [
    "## TODO: Execute your algorithm from Step 6 on\n",
    "## at least 6 images on your computer.\n",
    "## Feel free to use as many code cells as needed.\n",
    "\n",
    "# use determine_dog_breed() on image paths\n",
    "for path in glob(\"images/*\"):\n",
    "    print(\"Input File: {}\".format(path.split('\\\\')[1]))\n",
    "    determine_dog_breed(path)\n",
    "    print(\"\\n\")"
   ]
  },
  {
   "cell_type": "code",
   "execution_count": null,
   "metadata": {},
   "outputs": [],
   "source": []
  },
  {
   "cell_type": "code",
   "execution_count": null,
   "metadata": {},
   "outputs": [],
   "source": []
  },
  {
   "cell_type": "code",
   "execution_count": null,
   "metadata": {},
   "outputs": [],
   "source": []
  }
 ],
 "metadata": {
  "anaconda-cloud": {},
  "kernelspec": {
   "display_name": "Python 3 (ipykernel)",
   "language": "python",
   "name": "python3"
  },
  "language_info": {
   "codemirror_mode": {
    "name": "ipython",
    "version": 3
   },
   "file_extension": ".py",
   "mimetype": "text/x-python",
   "name": "python",
   "nbconvert_exporter": "python",
   "pygments_lexer": "ipython3",
   "version": "3.9.6"
  }
 },
 "nbformat": 4,
 "nbformat_minor": 1
}
